{
 "cells": [
  {
   "cell_type": "markdown",
   "metadata": {},
   "source": [
    "# dSentra\n",
    "pool number = 5\n",
    "operator number = 6"
   ]
  },
  {
   "cell_type": "code",
   "execution_count": 2,
   "metadata": {},
   "outputs": [],
   "source": [
    "# IGNORE THIS :3\n",
    "import os\n",
    "from geode import Geode, globals\n",
    "G = Geode(exec_api = os.environ['EXECUTION_API'], cons_key = os.environ['CONSENSUS_KEY'])\n",
    "Portal = G.Portal\n",
    "pid = Portal.functions.allIdsByType(globals.ID_TYPE.POOL, 5).call()\n",
    "# IGNORE THIS :3"
   ]
  },
  {
   "attachments": {},
   "cell_type": "markdown",
   "metadata": {},
   "source": [
    "# Staking Pools\n",
    "\n",
    "Read data from a staking pool's isolated storage easily!"
   ]
  },
  {
   "cell_type": "code",
   "execution_count": 3,
   "metadata": {},
   "outputs": [],
   "source": [
    "# # note that some parameters like fee is denominated with 10**10\n",
    "from geode.globals.constants import DENOMINATOR, ETH\n",
    "\n",
    "myPool = Portal.pool(pid)"
   ]
  },
  {
   "attachments": {},
   "cell_type": "markdown",
   "metadata": {},
   "source": [
    "### Pool Ownership and Creation Date\n",
    "> `TYPE`, `NAME`, `CONTROLLER` keys are always capitalized for any ID, other keys are always camelCase."
   ]
  },
  {
   "cell_type": "code",
   "execution_count": 12,
   "metadata": {},
   "outputs": [
    {
     "name": "stdout",
     "output_type": "stream",
     "text": [
      "TYPE: ID_TYPE.POOL\n",
      "NAME: dSentra public pool #1\n",
      "CONTROLLER: 0xBeAe83D58B6e26Ac6b906c4129e0D96722f5dEAa\n",
      "maintainer: 0x77DD4eF5Be22a3A6b4E8F26ff085B6C0C27673CD\n",
      "yieldReceiver: 0x0000000000000000000000000000000000000000\n",
      "initiated: 1687962120\n"
     ]
    }
   ],
   "source": [
    "print(\"TYPE:\",myPool.TYPE) \n",
    "print(\"NAME:\",myPool.NAME)\n",
    "print(\"CONTROLLER:\",myPool.CONTROLLER) # current owner\n",
    "print(\"maintainer:\",myPool.maintainer)\n",
    "print(\"yieldReceiver:\",myPool.yieldReceiver) # address(0) means yield is distributed to the token holders\n",
    "print(\"initiated:\",myPool.initiated) # timestamp"
   ]
  },
  {
   "attachments": {},
   "cell_type": "markdown",
   "metadata": {},
   "source": [
    "### Pool Configuration"
   ]
  },
  {
   "cell_type": "code",
   "execution_count": 5,
   "metadata": {},
   "outputs": [
    {
     "name": "stdout",
     "output_type": "stream",
     "text": [
      "private: False\n",
      "whitelist: 0x0000000000000000000000000000000000000000\n",
      "withdrawalCredential: 0x010000000000000000000000914a8af2c1c88b4b63afaa8964f2d66d533ec6c8\n",
      "withdrawalContract: 0x914A8AF2C1C88b4B63afaA8964F2D66D533Ec6C8\n",
      "liquidityPool: 0xcfc3368D9D539BD72Ffe4b997dbcb045891E8A49\n"
     ]
    }
   ],
   "source": [
    "print(\"private:\",myPool.private) # bool\n",
    "print(\"whitelist:\",myPool.whitelist) # returns address(0) if pool does not have one\n",
    "print(\"withdrawalCredential:\",myPool.withdrawalCredential) # useful for NOs\n",
    "print(\"withdrawalContract:\",myPool.withdrawalContract)\n",
    "print(\"liquidityPool:\",myPool.liquidityPool) # returns address(0) if pool does not have one"
   ]
  },
  {
   "attachments": {},
   "cell_type": "markdown",
   "metadata": {},
   "source": [
    "### Pool Fee"
   ]
  },
  {
   "cell_type": "code",
   "execution_count": 6,
   "metadata": {},
   "outputs": [
    {
     "name": "stdout",
     "output_type": "stream",
     "text": [
      "fee:500000000, which is 5.0%\n",
      "priorFee:400000000, which is 4.0%\n",
      "feeSwitch: 1688224188\n"
     ]
    }
   ],
   "source": [
    "# returns active fee, takes 3 days the change to be effective\n",
    "print(f\"fee:{myPool.fee}, which is {myPool.fee/DENOMINATOR*100}%\")\n",
    "# no need to give it to a param, lib does not call within 60 sec (REFRESH RATE)\n",
    "print(f\"priorFee:{myPool.priorFee}, which is {myPool.priorFee/DENOMINATOR*100}%\") \n",
    "# latest fee effective change date as timestamp\n",
    "print(\"feeSwitch:\",myPool.feeSwitch)"
   ]
  },
  {
   "attachments": {},
   "cell_type": "markdown",
   "metadata": {},
   "source": [
    "### Staking Related Data"
   ]
  },
  {
   "cell_type": "code",
   "execution_count": 7,
   "metadata": {},
   "outputs": [
    {
     "name": "stdout",
     "output_type": "stream",
     "text": [
      "surplus: 68114018995117504698\n",
      "secured: 0\n"
     ]
    }
   ],
   "source": [
    "# amount that is waiting to be delegated (useful when proposing a validator)\n",
    "print(\"surplus:\",myPool.surplus) \n",
    "# amount that is waiting to be sent to delegated validators\n",
    "print(\"secured:\",myPool.secured) "
   ]
  },
  {
   "attachments": {},
   "cell_type": "markdown",
   "metadata": {},
   "source": [
    "### Token Data\n",
    "\n",
    "> Token* mentioned here is just one ERC1155 'ID', acting like it is ERC20!\n",
    "\n",
    "> `middleware` is a unique approach that combine ERC1155 and ERC20."
   ]
  },
  {
   "cell_type": "code",
   "execution_count": 8,
   "metadata": {},
   "outputs": [
    {
     "name": "stdout",
     "output_type": "stream",
     "text": [
      "middlewaresLen: 1\n",
      "middleware 0 0x3c0b393494824F911c484916E95D2349E5D11a10\n",
      "middlewaresList: ['0x3c0b393494824F911c484916E95D2349E5D11a10']\n"
     ]
    }
   ],
   "source": [
    "print(\"middlewaresLen:\", myPool.middlewaresLen)\n",
    "print(\"middleware 0\", myPool.middlewares(0))\n",
    "# this function creates a loop, won't recommend using it \n",
    "print(\"middlewaresList:\", myPool.middlewaresList) "
   ]
  },
  {
   "attachments": {},
   "cell_type": "markdown",
   "metadata": {},
   "source": [
    "### Internal Wallet\n",
    "\n",
    "Every ID has its own internal wallet within Portal. \n",
    "\n",
    "It accrues fees, makes things safer and easier for Node Operators etc."
   ]
  },
  {
   "cell_type": "code",
   "execution_count": 14,
   "metadata": {},
   "outputs": [
    {
     "name": "stdout",
     "output_type": "stream",
     "text": [
      "wallet has 0 wei, which is 0.0 ETH\n"
     ]
    }
   ],
   "source": [
    "print(f\"wallet has {myPool.wallet} wei, which is {myPool.wallet/ETH} ETH\")"
   ]
  },
  {
   "attachments": {},
   "cell_type": "markdown",
   "metadata": {},
   "source": [
    "### fallback Operator\n",
    "`fallback Operator` is probably not widely used or documented for now, but I will explain it:\n",
    "\n",
    "> Let's say A staking pool has 100 cumulative validator allowances accross all Operators.\n",
    ">\n",
    "> But pool has a lot of volume going through. So, pool owner says:\n",
    ">\n",
    "> \"ok, when 80% (`fallbackThreshold`) of my allowances are filled, I want IceBearInstitutional (`fallbackOperator`) to have unlimited allowance.\" "
   ]
  },
  {
   "cell_type": "code",
   "execution_count": 10,
   "metadata": {},
   "outputs": [
    {
     "name": "stdout",
     "output_type": "stream",
     "text": [
      "fallbackOperator 0\n",
      "fallbackThreshold 0\n"
     ]
    }
   ],
   "source": [
    "print(\"fallbackOperator\", myPool.fallbackOperator)\n",
    "print(\"fallbackThreshold\", myPool.fallbackThreshold)"
   ]
  },
  {
   "attachments": {},
   "cell_type": "markdown",
   "metadata": {},
   "source": [
    "> For relational data, which is actually a part of the Pool's Isolated Storage, see the Operator-Marketplace.ipynb"
   ]
  }
 ],
 "metadata": {
  "kernelspec": {
   "display_name": "venv",
   "language": "python",
   "name": "python3"
  },
  "language_info": {
   "codemirror_mode": {
    "name": "ipython",
    "version": 3
   },
   "file_extension": ".py",
   "mimetype": "text/x-python",
   "name": "python",
   "nbconvert_exporter": "python",
   "pygments_lexer": "ipython3",
   "version": "3.10.6"
  },
  "orig_nbformat": 4,
  "vscode": {
   "interpreter": {
    "hash": "b1b6c5072c5a50f6d2400b07d553322444e3342f0da0ae61087b066e28ec204a"
   }
  }
 },
 "nbformat": 4,
 "nbformat_minor": 2
}
