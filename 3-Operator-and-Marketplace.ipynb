{
 "cells": [
  {
   "cell_type": "code",
   "execution_count": 6,
   "metadata": {},
   "outputs": [],
   "source": [
    "# IGNORE THIS :3\n",
    "import os\n",
    "from geode import Geode, globals\n",
    "G = Geode(exec_api = os.environ['EXECUTION_API'], cons_key = os.environ['CONSENSUS_KEY'])\n",
    "Portal = G.Portal\n",
    "oid = Portal.functions.allIdsByType(globals.ID_TYPE.OPERATOR, 6).call()\n",
    "pid = Portal.functions.allIdsByType(globals.ID_TYPE.POOL, 5).call()\n",
    "myPool = Portal.pool(pid)\n",
    "# IGNORE THIS :3\n"
   ]
  },
  {
   "attachments": {},
   "cell_type": "markdown",
   "metadata": {},
   "source": [
    "# Operators\n",
    "\n",
    "When stakers stake with a Pool, pool owners delegate the validators to an Operator.\n",
    "\n",
    "This is very useful in my opinion: https://docs.geode.fi/operator-marketplace"
   ]
  },
  {
   "cell_type": "code",
   "execution_count": 7,
   "metadata": {},
   "outputs": [
    {
     "name": "stdout",
     "output_type": "stream",
     "text": [
      "NAME: dSentra\n",
      "CONTROLLER: 0xBeAe83D58B6e26Ac6b906c4129e0D96722f5dEAa\n",
      "ID: 31714947982858204937006775680871004176266839432931470523383748182266983527862\n",
      "initiated: 1689059832\n",
      "maintainer: 0x77DD4eF5Be22a3A6b4E8F26ff085B6C0C27673CD\n",
      "feeSwitch: 0\n",
      "priorFee: 0\n",
      "fee: 500000000\n",
      "periodSwitch: 0\n",
      "priorPeriod: 0\n",
      "validatorPeriod: 31536000\n"
     ]
    }
   ],
   "source": [
    "myOperator = Portal.operator(oid)\n",
    "\n",
    "print(\"NAME:\",myOperator.NAME)\n",
    "print(\"CONTROLLER:\",myOperator.CONTROLLER)\n",
    "print(\"ID:\",myOperator.ID)\n",
    "print(\"initiated:\",myOperator.initiated)\n",
    "print(\"maintainer:\",myOperator.maintainer)\n",
    "\n",
    "# fee changes takes effect after 3 days\n",
    "print(\"feeSwitch:\",myOperator.feeSwitch)\n",
    "print(\"priorFee:\",myOperator.priorFee)\n",
    "print(\"fee:\",myOperator.fee) # denominated in 10**10\n",
    "\n",
    "# period changes takes effect after 3 days\n",
    "print(\"periodSwitch:\",myOperator.periodSwitch)\n",
    "print(\"priorPeriod:\",myOperator.priorPeriod)\n",
    "print(\"validatorPeriod:\",myOperator.validatorPeriod) # in seconds\n"
   ]
  },
  {
   "attachments": {},
   "cell_type": "markdown",
   "metadata": {},
   "source": [
    "### Internal wallet\n",
    "Every Validator proposal costs 1 Ether, which will be spent from your internal wallet.\n",
    "\n",
    "\n",
    "However, ether is returned if the proposal is approved and the validator creation is finalized."
   ]
  },
  {
   "cell_type": "code",
   "execution_count": 10,
   "metadata": {},
   "outputs": [
    {
     "name": "stdout",
     "output_type": "stream",
     "text": [
      "wallet: 2000000000000000000\n"
     ]
    }
   ],
   "source": [
    "print(\"wallet:\",myOperator.wallet)"
   ]
  },
  {
   "attachments": {},
   "cell_type": "markdown",
   "metadata": {},
   "source": [
    "## Operator marketplace"
   ]
  },
  {
   "cell_type": "code",
   "execution_count": 9,
   "metadata": {},
   "outputs": [
    {
     "name": "stdout",
     "output_type": "stream",
     "text": [
      "allowance: 2\n",
      "proposedValidators: 1\n",
      "activeValidators: 0\n",
      "alienValidators: 0\n"
     ]
    }
   ],
   "source": [
    "# how many more validators this operator can create for myPool\n",
    "print(\"allowance:\",myPool.allowance(operator=myOperator.ID)) \n",
    "# how many validator proposal is waiting to be approved/staked\n",
    "print(\"proposedValidators:\",myPool.proposedValidators(operator=myOperator.ID))\n",
    "# how many validators are actively staked\n",
    "print(\"activeValidators:\",myPool.activeValidators(operator=myOperator.ID))\n",
    "# how many validator proposals are denied\n",
    "print(\"alienValidators:\",myPool.alienValidators(operator=myOperator.ID)) # faulty proposals"
   ]
  },
  {
   "attachments": {},
   "cell_type": "markdown",
   "metadata": {},
   "source": [
    "### Prison\n",
    "Prisoned operators made something bad.\n",
    "https://docs.geode.fi/operator-marketplace/regulating-the-marketplace"
   ]
  },
  {
   "cell_type": "code",
   "execution_count": 5,
   "metadata": {},
   "outputs": [
    {
     "name": "stdout",
     "output_type": "stream",
     "text": [
      "release: 0\n"
     ]
    }
   ],
   "source": [
    "# when is/was the timestamp the operator will be able continue normally\n",
    "# governance can release if no harm was caused or maybe no bad intention\n",
    "print(\"release:\",myOperator.release) # 0 if never prisoned"
   ]
  }
 ],
 "metadata": {
  "kernelspec": {
   "display_name": "venv",
   "language": "python",
   "name": "python3"
  },
  "language_info": {
   "codemirror_mode": {
    "name": "ipython",
    "version": 3
   },
   "file_extension": ".py",
   "mimetype": "text/x-python",
   "name": "python",
   "nbconvert_exporter": "python",
   "pygments_lexer": "ipython3",
   "version": "3.10.6"
  },
  "orig_nbformat": 4,
  "vscode": {
   "interpreter": {
    "hash": "b1b6c5072c5a50f6d2400b07d553322444e3342f0da0ae61087b066e28ec204a"
   }
  }
 },
 "nbformat": 4,
 "nbformat_minor": 2
}
