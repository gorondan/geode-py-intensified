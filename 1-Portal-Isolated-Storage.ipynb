{
 "cells": [
  {
   "cell_type": "code",
   "execution_count": 1,
   "metadata": {},
   "outputs": [],
   "source": [
    "# IGNORE THIS :3\n",
    "import os\n",
    "from geode import Geode\n",
    "G = Geode(exec_api = os.environ['EXECUTION_API'], cons_key = os.environ['CONSENSUS_KEY'])\n",
    "Portal = G.Portal\n",
    "# IGNORE THIS :3"
   ]
  },
  {
   "attachments": {
    "image.png": {
     "image/png": "[encoded data removed]"
    }
   },
   "cell_type": "markdown",
   "metadata": {},
   "source": [
    "# Datastore\n",
    "\n",
    "DataStore is designed to host multiple parties with different TYPEs without them affecting each other's storage space under any condition.\n",
    "\n",
    "This is achieved by utilizing ID and key pairs within the storage.\n",
    "\n",
    "DataStore can only store 3 types of variables: UINT256, Address, Bytes. \n",
    "\n",
    "Worth noting, DataStore not only can store these types, but can also store Arrays of these types and relational data between different IDs by generating a new key for the unqiue combinations.\n",
    "\n",
    "![image.png](attachment:image.png)\n"
   ]
  },
  {
   "attachments": {},
   "cell_type": "markdown",
   "metadata": {},
   "source": [
    "> Pro Tip: If you would like to get the length of an Array from Portal's DataStore, just call `Portal.readUint(id,array_key) `."
   ]
  },
  {
   "attachments": {},
   "cell_type": "markdown",
   "metadata": {},
   "source": [
    "## ID and TYPE"
   ]
  },
  {
   "attachments": {},
   "cell_type": "markdown",
   "metadata": {},
   "source": [
    "### How `ID` is generated?\n",
    "> keccak(NAME, TYPE) for a pool. NAME is chosen by the pool owner."
   ]
  },
  {
   "cell_type": "code",
   "execution_count": 4,
   "metadata": {},
   "outputs": [
    {
     "name": "stdout",
     "output_type": "stream",
     "text": [
      "Portal will create 'dSentra public pool #1' with the ID of 86502518581938563901485985101800597243059589530815947830543203898014478629305\n",
      "Ofchain 'generateId' function returns 86502518581938563901485985101800597243059589530815947830543203898014478629305.\n"
     ]
    }
   ],
   "source": [
    "from geode.globals import ID_TYPE\n",
    "from geode.utils import generateId\n",
    "\n",
    "name = \"dSentra public pool #1\"\n",
    "oncId = Portal.functions.generateId(name, ID_TYPE.POOL).call()\n",
    "ofcId = generateId(name, ID_TYPE.POOL) # suggested for use, because faster\n",
    "\n",
    "print(f\"Portal will create '{name}' with the ID of {oncId}\")\n",
    "print(f\"Ofchain 'generateId' function returns {ofcId}.\")"
   ]
  },
  {
   "attachments": {},
   "cell_type": "markdown",
   "metadata": {},
   "source": [
    "### What is 'TYPE'?\n",
    "\n",
    "> Every ID has a TYPE.\n",
    ">\n",
    "> A Pool's TYPE is Pool(5). \n",
    "> \n",
    "> When a Pool is created, its ID is generated based on its TYPE.\n",
    ">\n",
    "> Contract's TYPE is PACKAGE_PORTAL(10001). \n",
    "> \n",
    "> When a new upgrade for Portal is proposed by the Governance, the proposal will have TYPE defined as 10001. When it is approved, portal will upgrade itself."
   ]
  },
  {
   "attachments": {},
   "cell_type": "markdown",
   "metadata": {},
   "source": [
    "### Get All IDs from a TYPE"
   ]
  },
  {
   "cell_type": "code",
   "execution_count": 9,
   "metadata": {},
   "outputs": [
    {
     "name": "stdout",
     "output_type": "stream",
     "text": [
      "There are 27 pools and 15 operators. The seconds Pool' id is 86502518581938563901485985101800597243059589530815947830543203898014478629305 and the first operator is 31714947982858204937006775680871004176266839432931470523383748182266983527862.\n"
     ]
    }
   ],
   "source": [
    "from geode.globals import ID_TYPE\n",
    "\n",
    "# Getting All IDs of a TYPE\n",
    "pLen=Portal.functions.allIdsByTypeLength(ID_TYPE.POOL).call()\n",
    "oLen=Portal.functions.allIdsByTypeLength(ID_TYPE.OPERATOR).call()\n",
    "\n",
    "pid = Portal.functions.allIdsByType(ID_TYPE.POOL, 5).call()\n",
    "oid = Portal.functions.allIdsByType(ID_TYPE.OPERATOR, 6).call()\n",
    "\n",
    "print(f\"There are {pLen} pools and {oLen} operators. The seconds Pool' id is {pid} and the first operator is {oid}.\")"
   ]
  },
  {
   "attachments": {},
   "cell_type": "markdown",
   "metadata": {},
   "source": [
    "## Ready for a deep dive?"
   ]
  },
  {
   "cell_type": "code",
   "execution_count": 10,
   "metadata": {},
   "outputs": [
    {
     "data": {
      "text/plain": [
       "('dSentra public pool #1',\n",
       " <ID_TYPE.POOL: 5>,\n",
       " '0xBeAe83D58B6e26Ac6b906c4129e0D96722f5dEAa')"
      ]
     },
     "execution_count": 10,
     "metadata": {},
     "output_type": "execute_result"
    }
   ],
   "source": [
    "from geode.utils import toBytes32, toString \n",
    "# readBytes readBytesArray etc requires a bytes32 key\n",
    "\n",
    "t=Portal.functions.readUint(pid, toBytes32(\"TYPE\")).call()\n",
    "c=Portal.functions.readAddress(pid, toBytes32(\"CONTROLLER\")).call()\n",
    "n=Portal.functions.readBytes(pid, toBytes32(\"NAME\")).call()\n",
    "toString(n), ID_TYPE(t) , c"
   ]
  },
  {
   "attachments": {},
   "cell_type": "markdown",
   "metadata": {},
   "source": [
    "### Reading Arrays"
   ]
  },
  {
   "cell_type": "code",
   "execution_count": 11,
   "metadata": {},
   "outputs": [
    {
     "data": {
      "text/plain": [
       "'0x3c0b393494824F911c484916E95D2349E5D11a10'"
      ]
     },
     "execution_count": 11,
     "metadata": {},
     "output_type": "execute_result"
    }
   ],
   "source": [
    "Portal.functions.readUint(pid, toBytes32(\"middlewares\")).call() # gives length\n",
    "Portal.functions.readAddressArray(pid, toBytes32(\"middlewares\"),index=0).call() # gives data from array with index"
   ]
  },
  {
   "attachments": {},
   "cell_type": "markdown",
   "metadata": {},
   "source": [
    "### Relational Data!\n",
    "\n",
    "Sometimes it is useful to get some uninterpereted data.\n",
    "\n",
    "We can also read relational data between two IDs. To achieve this, we will create a unique key for <ID, key> pair. check the getKey function below."
   ]
  },
  {
   "cell_type": "code",
   "execution_count": 12,
   "metadata": {},
   "outputs": [
    {
     "data": {
      "text/plain": [
       "2"
      ]
     },
     "execution_count": 12,
     "metadata": {},
     "output_type": "execute_result"
    }
   ],
   "source": [
    "from geode.utils import getKey # readBytes readBytesArray etc requires a bytes32 key\n",
    "\n",
    "# Portal.allowance function returns the remaining seats for validator creation. \n",
    "# But, this can be limited by the monopoly threshold etc.\n",
    "# You can still get the pure allowance tho:\n",
    " \n",
    "operator_allowance_key = getKey(id=oid, key=\"allowance\") # reusable for any pool! :)\n",
    "Portal.functions.readUint(pid, operator_allowance_key).call()"
   ]
  }
 ],
 "metadata": {
  "kernelspec": {
   "display_name": "venv",
   "language": "python",
   "name": "python3"
  },
  "language_info": {
   "codemirror_mode": {
    "name": "ipython",
    "version": 3
   },
   "file_extension": ".py",
   "mimetype": "text/x-python",
   "name": "python",
   "nbconvert_exporter": "python",
   "pygments_lexer": "ipython3",
   "version": "3.10.6"
  },
  "orig_nbformat": 4,
  "vscode": {
   "interpreter": {
    "hash": "b1b6c5072c5a50f6d2400b07d553322444e3342f0da0ae61087b066e28ec204a"
   }
  }
 },
 "nbformat": 4,
 "nbformat_minor": 2
}
