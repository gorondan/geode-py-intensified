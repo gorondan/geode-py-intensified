{
 "cells": [
  {
   "cell_type": "markdown",
   "metadata": {},
   "source": [
    "# dSentra\n",
    "pool number = 5\n",
    "operator number = 6"
   ]
  },
  {
   "cell_type": "code",
   "execution_count": null,
   "metadata": {},
   "outputs": [],
   "source": [
    "# IGNORE THIS :3\n",
    "import os\n",
    "from web3.middleware import construct_sign_and_send_raw_middleware\n",
    "from geode import Geode,globals\n",
    "G = Geode(exec_api = os.environ['EXECUTION_API'], cons_key = os.environ['CONSENSUS_KEY'])\n",
    "Portal = G.Portal\n",
    "oid = Portal.functions.allIdsByType(globals.ID_TYPE.OPERATOR, 6).call()\n",
    "pid = Portal.functions.allIdsByType(globals.ID_TYPE.POOL, 5).call()\n",
    "myPool = Portal.pool(pid)\n",
    "myOperator = Portal.operator(oid)\n",
    "private_key = os.environ[\"PRIVATE_KEY\"] # name it to something else!!!\n",
    "acct = G.w3.eth.account.from_key(private_key)\n",
    "G.w3.middleware_onion.add(construct_sign_and_send_raw_middleware(acct))\n",
    "G.w3.eth.defaultAccount = acct\n",
    "# IGNORE THIS :3"
   ]
  },
  {
   "attachments": {},
   "cell_type": "markdown",
   "metadata": {},
   "source": [
    "# Creating Validators\n",
    "\n",
    "Validators are created in 2 steps: `proposeStake()` and `stake()`\n",
    "\n",
    "1. proposeStake() will send 1 eth to beacon chain\n",
    "2. stake() will send 31 eth to beacon chain\n",
    "\n",
    "Take a look at this: https://docs.geode.fi/operator-marketplace/a-validators-lifecycle\n",
    "\n",
    "Any Staking Pool can work with any Operator. It is up to them choosing their own subset. This is done by the `delegate` function, and is observed with the `allowance` function.\n",
    "\n",
    "So, we have modified the staking-cli to give you the power to do 1 Eth and 31 Eth deposits, or any amount really...\n",
    "\n",
    "https://github.com/Geodefi/staking-deposit-cli"
   ]
  },
  {
   "attachments": {},
   "cell_type": "markdown",
   "metadata": {},
   "source": [
    "### Get Prepared\n",
    "\n",
    "0. Keep your `mnemonic` in mind\n",
    "You can use a new mnemonic for every single pool, or you can use a one global mnemonic and increase its index over time. \n",
    "But, it is very important that you keep some consistency on your mnemonic usage, while keeping it safe.\n",
    "\n",
    "I will use one global mnemonic. \n",
    "\n",
    "1. Detect which pools you can stake for\n",
    "You can basically loop through all pools periodically and check the `allowance` function, or you can listen for `Delegation` event. It is totally up to you how you handle this.\n",
    "However, keep in mind, other node operators racing with you to grab delegations every time pool `surplus` hits to 32 eth.\n",
    "\n",
    "This is particularly important because proposeStake function can be called to propose multiple validators for one pool.\n",
    "stake() function, on the other hand can be called with multiple validator pubkeys from mulitple pools.\n",
    "These function calls will be kind of expensive. So, be wise spending your gas :)\n",
    "\n",
    "> Pro tip: order your pubkeys according to their pools to save gas. For example use `[pool1, pool1, pool1, pool2, pool2, pool3]` instead of \n",
    "`[pool1, pool2, pool3, pool1, pool2, pool1].`\n",
    "\n",
    "\n",
    "> Delegation Event ABI:\n",
    "> \n",
    "> ```\n",
    ">     {\n",
    ">       \"anonymous\": false,\n",
    ">       \"inputs\": [\n",
    ">         {\n",
    ">           \"indexed\": false,\n",
    ">           \"internalType\": \"uint256\",\n",
    ">           \"name\": \"poolId\",\n",
    ">           \"type\": \"uint256\"\n",
    ">         },\n",
    ">         {\n",
    ">           \"indexed\": true,\n",
    ">           \"internalType\": \"uint256\",\n",
    ">           \"name\": \"operatorId\",\n",
    ">           \"type\": \"uint256\"\n",
    ">         },\n",
    ">         {\n",
    ">           \"indexed\": false,\n",
    ">           \"internalType\": \"uint256\",\n",
    ">           \"name\": \"allowance\",\n",
    ">           \"type\": \"uint256\"\n",
    ">         }\n",
    ">       ],\n",
    ">       \"name\": \"Delegation\",\n",
    ">       \"type\": \"event\"\n",
    ">     }\n",
    "> ```\n",
    "\n",
    "2. Create 2 deposit-data for every validator for every validator proposal. One of the most important thing here is to use pool's `withdrawal_contract` as `eth1_withdrawal_address`\n",
    "This can be done easily by:\n",
    "\n",
    "```shell\n",
    "python3 ./staking_deposit/deposit.py existing-mnemonic --num_validators = {{number_of_proposal}} --amount = 1 --chain=goerli --eth1_withdrawal_address {{withdrawal_contract}}\n",
    "\n",
    "python3 ./staking_deposit/deposit.py existing-mnemonic --num_validators = {{number_of_proposal}} --amount = 31 --chain=goerli --eth1_withdrawal_address {{withdrawal_contract}}\n",
    "```"
   ]
  },
  {
   "attachments": {},
   "cell_type": "markdown",
   "metadata": {},
   "source": [
    "3. validate the deposit-data"
   ]
  },
  {
   "cell_type": "code",
   "execution_count": null,
   "metadata": {},
   "outputs": [],
   "source": [
    "from geode.utils.bls import validate_deposit_data_file\n",
    "from geode.globals import DEPOSIT_SIZE, Network\n",
    "\n",
    "# lets first validate\n",
    "##  use https://github.com/Geodefi/staking-deposit-cli to generate\n",
    "propose_data_path=\"deposit_data/deposit_data-1692015960.json\"\n",
    "stake_data_path=\"deposit_data/deposit_data-1692016808.json\"\n",
    "\n",
    "# doesn't look for deposit_message_root and deposit_data_root issues as they are not used.\n",
    "validate_deposit_data_file(\n",
    "    deposit_data_path=stake_data_path,\n",
    "    amount=DEPOSIT_SIZE.STAKE,\n",
    "    credential=myPool.withdrawalCredential[2:], # remove the 0x part \n",
    "    network= Network.goerli\n",
    "    )\n",
    "\n",
    "validate_deposit_data_file(\n",
    "    deposit_data_path=propose_data_path,\n",
    "    amount=DEPOSIT_SIZE.PROPOSAL, \n",
    "    credential=myPool.withdrawalCredential[2:], # can also use Validator.withdrawalCredentials * if already actively validating validator *\n",
    "    network= Network.goerli\n",
    ")"
   ]
  },
  {
   "attachments": {},
   "cell_type": "markdown",
   "metadata": {},
   "source": [
    "4. prepare the data using native SDK functions \n",
    "   \n",
    "> __pub1 == pub31__. Since they are actually used to deposit into the same validator. So, be careful about the `index` prompt while using existing-mnemonic."
   ]
  },
  {
   "cell_type": "code",
   "execution_count": null,
   "metadata": {},
   "outputs": [],
   "source": [
    "pubkeys1, sig1 = myPool.prepareProposeStake(deposit_data_path=propose_data_path)\n",
    "pubkeys31, sig31 = myPool.prepareStake(deposit_data_path=stake_data_path)"
   ]
  },
  {
   "cell_type": "code",
   "execution_count": null,
   "metadata": {},
   "outputs": [],
   "source": [
    "#dSentra-branch \n",
    "print(\"Operator ID:\",myOperator.ID, \"Operator maintainer:\",myOperator.maintainer, \"Operator controller:\", myOperator.CONTROLLER)\n",
    "print(\"Pool ID:\",myPool.ID, \"Pool maintainer:\",myPool.maintainer, \"Pool CONTROLLER:\",myPool.CONTROLLER)\n",
    "print(\"PRIVATE ACCOUNT address:\",acct.address)"
   ]
  },
  {
   "attachments": {},
   "cell_type": "markdown",
   "metadata": {},
   "source": [
    "5. Propose!"
   ]
  },
  {
   "cell_type": "code",
   "execution_count": null,
   "metadata": {},
   "outputs": [],
   "source": [
    "Portal.functions.proposeStake(myPool.ID, myOperator.ID, pubkeys1, sig1, sig31,).transact({\"from\": acct.address}) "
   ]
  },
  {
   "cell_type": "code",
   "execution_count": null,
   "metadata": {},
   "outputs": [],
   "source": [
    "pubkey=\"0x973ebcb9605afdcda77fac8c50f1ddbbb9f2bfbabbe41d3133a2adcb7d0c7c0a7fa1bc6736dbdb2784cc70ca86b0b2b1\"\n",
    "          \n",
    "Portal.functions.canStake(pubkey).call()\n"
   ]
  },
  {
   "attachments": {},
   "cell_type": "markdown",
   "metadata": {},
   "source": [
    "6. Wait until approved...\n",
    "Honestly, it should take a day max. But, you can listen `VerificationIndexUpdated` event, which is emitted every time Oracle approves a batch of proposals. Or, simply check the `Portal.canStake(pubkey)` function periodically.\n",
    "\n",
    "> VerificationIndexUpdated Event ABI:\n",
    "> \n",
    "> ```\n",
    ">  {\n",
    ">    \"anonymous\": false,\n",
    ">    \"inputs\": [\n",
    ">      {\n",
    ">        \"indexed\": false,\n",
    ">        \"internalType\": \"uint256\",\n",
    ">        \"name\": \"validatorVerificationIndex\",\n",
    ">        \"type\": \"uint256\"\n",
    ">      }\n",
    ">    ],\n",
    ">    \"name\": \"VerificationIndexUpdated\",\n",
    ">    \"type\": \"event\"\n",
    ">  }\n",
    ">```"
   ]
  },
  {
   "cell_type": "code",
   "execution_count": null,
   "metadata": {},
   "outputs": [],
   "source": [
    "#GEODE Portal contract instance VerificationIndexUpdated Event ABI:=\n",
    "import json\n",
    "abi = json.loads('[{\"anonymous\": false, \"inputs\": [{\"indexed\": false,\"internalType\": \"uint256\",\"name\": \"validatorVerificationIndex\",\"type\": \"uint256\"}],\"name\":\"VerificationIndexUpdated\",\"type\": \"event\"},{\"name\":\"ControllerChanged\",\"type\":\"event\", \"inputs\":[]}]')\n",
    "#GEODE Portal contract  - proxy instance - Address\n",
    "contract_address = \"0xFAF3b3eE96Fa210Cf196CDa9015384dE049Fa2a8\"\n",
    "contract_instance = G.w3.eth.contract(address= contract_address, abi=abi)\n",
    "# fetch IndexUpdated events in the last block\n",
    "params = {\"fromBlock\": G.w3.eth.block_number}\n",
    "logs = contract_instance.events.VerificationIndexUpdated.get_logs(params)\n",
    "print(logs)\n"
   ]
  },
  {
   "attachments": {},
   "cell_type": "markdown",
   "metadata": {},
   "source": [
    "7. Stake!"
   ]
  },
  {
   "cell_type": "code",
   "execution_count": null,
   "metadata": {},
   "outputs": [],
   "source": [
    "Portal.functions.stake(myOperator.ID, pubkeys1).transact({\"from\": acct.address})"
   ]
  }
 ],
 "metadata": {
  "kernelspec": {
   "display_name": "venv",
   "language": "python",
   "name": "python3"
  },
  "language_info": {
   "codemirror_mode": {
    "name": "ipython",
    "version": 3
   },
   "file_extension": ".py",
   "mimetype": "text/x-python",
   "name": "python",
   "nbconvert_exporter": "python",
   "pygments_lexer": "ipython3",
   "version": "3.10.6"
  },
  "orig_nbformat": 4,
  "vscode": {
   "interpreter": {
    "hash": "b1b6c5072c5a50f6d2400b07d553322444e3342f0da0ae61087b066e28ec204a"
   }
  }
 },
 "nbformat": 4,
 "nbformat_minor": 2
}
