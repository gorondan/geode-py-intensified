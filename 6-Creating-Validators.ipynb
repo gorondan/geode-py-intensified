{
 "cells": [
  {
   "cell_type": "markdown",
   "metadata": {},
   "source": [
    "# dSentra\n",
    "pool number = 5\n",
    "operator number = 6"
   ]
  },
  {
   "cell_type": "code",
   "execution_count": 101,
   "metadata": {},
   "outputs": [],
   "source": [
    "# IGNORE THIS :3\n",
    "import os\n",
    "from web3.middleware import construct_sign_and_send_raw_middleware\n",
    "from geode import Geode,globals\n",
    "G = Geode(exec_api = os.environ['EXECUTION_API'], cons_key = os.environ['CONSENSUS_KEY'])\n",
    "Portal = G.Portal\n",
    "oid = Portal.functions.allIdsByType(globals.ID_TYPE.OPERATOR, 6).call()\n",
    "pid = Portal.functions.allIdsByType(globals.ID_TYPE.POOL, 5).call()\n",
    "myPool = Portal.pool(pid)\n",
    "myOperator = Portal.operator(oid)\n",
    "private_key = os.environ[\"PRIVATE_KEY\"] # name it to something else!!!\n",
    "acct = G.w3.eth.account.from_key(private_key)\n",
    "G.w3.middleware_onion.add(construct_sign_and_send_raw_middleware(acct))\n",
    "G.w3.eth.defaultAccount = acct\n",
    "# IGNORE THIS :3"
   ]
  },
  {
   "attachments": {},
   "cell_type": "markdown",
   "metadata": {},
   "source": [
    "# Creating Validators\n",
    "\n",
    "Validators are created in 2 steps: `proposeStake()` and `stake()`\n",
    "\n",
    "1. proposeStake() will send 1 eth to beacon chain\n",
    "2. stake() will send 31 eth to beacon chain\n",
    "\n",
    "Take a look at this: https://docs.geode.fi/operator-marketplace/a-validators-lifecycle\n",
    "\n",
    "Any Staking Pool can work with any Operator. It is up to them choosing their own subset. This is done by the `delegate` function, and is observed with the `allowance` function.\n",
    "\n",
    "So, we have modified the staking-cli to give you the power to do 1 Eth and 31 Eth deposits, or any amount really...\n",
    "\n",
    "https://github.com/Geodefi/staking-deposit-cli"
   ]
  },
  {
   "attachments": {},
   "cell_type": "markdown",
   "metadata": {},
   "source": [
    "### Get Prepared\n",
    "\n",
    "0. Keep your `mnemonic` in mind\n",
    "You can use a new mnemonic for every single pool, or you can use a one global mnemonic and increase its index over time. \n",
    "But, it is very important that you keep some consistency on your mnemonic usage, while keeping it safe.\n",
    "\n",
    "I will use one global mnemonic. \n",
    "\n",
    "1. Detect which pools you can stake for\n",
    "You can basically loop through all pools periodically and check the `allowance` function, or you can listen for `Delegation` event. It is totally up to you how you handle this.\n",
    "However, keep in mind, other node operators racing with you to grab delegations every time pool `surplus` hits to 32 eth.\n",
    "\n",
    "This is particularly important because proposeStake function can be called to propose multiple validators for one pool.\n",
    "stake() function, on the other hand can be called with multiple validator pubkeys from mulitple pools.\n",
    "These function calls will be kind of expensive. So, be wise spending your gas :)\n",
    "\n",
    "> Pro tip: order your pubkeys according to their pools to save gas. For example use `[pool1, pool1, pool1, pool2, pool2, pool3]` instead of \n",
    "`[pool1, pool2, pool3, pool1, pool2, pool1].`\n",
    "\n",
    "\n",
    "> Delegation Event ABI:\n",
    "> \n",
    "> ```\n",
    ">     {\n",
    ">       \"anonymous\": false,\n",
    ">       \"inputs\": [\n",
    ">         {\n",
    ">           \"indexed\": false,\n",
    ">           \"internalType\": \"uint256\",\n",
    ">           \"name\": \"poolId\",\n",
    ">           \"type\": \"uint256\"\n",
    ">         },\n",
    ">         {\n",
    ">           \"indexed\": true,\n",
    ">           \"internalType\": \"uint256\",\n",
    ">           \"name\": \"operatorId\",\n",
    ">           \"type\": \"uint256\"\n",
    ">         },\n",
    ">         {\n",
    ">           \"indexed\": false,\n",
    ">           \"internalType\": \"uint256\",\n",
    ">           \"name\": \"allowance\",\n",
    ">           \"type\": \"uint256\"\n",
    ">         }\n",
    ">       ],\n",
    ">       \"name\": \"Delegation\",\n",
    ">       \"type\": \"event\"\n",
    ">     }\n",
    "> ```\n",
    "\n",
    "2. Create 2 deposit-data for every validator for every validator proposal. One of the most important thing here is to use pool's `withdrawal_contract` as `eth1_withdrawal_address`\n",
    "This can be done easily by:\n",
    "\n",
    "```shell\n",
    "python3 ./staking_deposit/deposit.py existing-mnemonic --num_validators = {{number_of_proposal}} --amount = 1 --chain=goerli --eth1_withdrawal_address {{withdrawal_contract}}\n",
    "\n",
    "python3 ./staking_deposit/deposit.py existing-mnemonic --num_validators = {{number_of_proposal}} --amount = 31 --chain=goerli --eth1_withdrawal_address {{withdrawal_contract}}\n",
    "```"
   ]
  },
  {
   "attachments": {},
   "cell_type": "markdown",
   "metadata": {},
   "source": [
    "3. validate the deposit-data"
   ]
  },
  {
   "cell_type": "code",
   "execution_count": 7,
   "metadata": {},
   "outputs": [
    {
     "data": {
      "text/plain": [
       "[{'pubkey': '973ebcb9605afdcda77fac8c50f1ddbbb9f2bfbabbe41d3133a2adcb7d0c7c0a7fa1bc6736dbdb2784cc70ca86b0b2b1',\n",
       "  'withdrawal_credentials': '010000000000000000000000914a8af2c1c88b4b63afaa8964f2d66d533ec6c8',\n",
       "  'amount': 1000000000,\n",
       "  'signature': 'a913b6243846170fb2d406df00555128b97a70951fd063cacec455213f8a539ce774cc52a98f3c81ec20f454bca8bcb20075c9f7266b1161534b7ed60c4e6587d410c2fe4ff316a66574d719c3634deb854c082f72a32fe6969f51eb6faa233e',\n",
       "  'deposit_message_root': '9bc178bac027002dc222d7faeecfdaed127e8f95dbbbd1588a5667cea4a3fd9e',\n",
       "  'deposit_data_root': '3cf4d16f5f7bfa28b7e2984433cc83d57cde073badec0bf0b0675bd63990fabf',\n",
       "  'fork_version': '00001020',\n",
       "  'network_name': 'goerli',\n",
       "  'deposit_cli_version': '2.4.0'}]"
      ]
     },
     "execution_count": 7,
     "metadata": {},
     "output_type": "execute_result"
    }
   ],
   "source": [
    "from geode.utils.bls import validate_deposit_data_file\n",
    "from geode.globals import DEPOSIT_SIZE, Network\n",
    "\n",
    "# lets first validate\n",
    "##  use https://github.com/Geodefi/staking-deposit-cli to generate\n",
    "propose_data_path=\"deposit_data/deposit_data-1692015960.json\"\n",
    "stake_data_path=\"deposit_data/deposit_data-1692016808.json\"\n",
    "\n",
    "# doesn't look for deposit_message_root and deposit_data_root issues as they are not used.\n",
    "validate_deposit_data_file(\n",
    "    deposit_data_path=stake_data_path,\n",
    "    amount=DEPOSIT_SIZE.STAKE,\n",
    "    credential=myPool.withdrawalCredential[2:], # remove the 0x part \n",
    "    network= Network.goerli\n",
    "    )\n",
    "\n",
    "validate_deposit_data_file(\n",
    "    deposit_data_path=propose_data_path,\n",
    "    amount=DEPOSIT_SIZE.PROPOSAL, \n",
    "    credential=myPool.withdrawalCredential[2:], # can also use Validator.withdrawalCredentials * if already actively validating validator *\n",
    "    network= Network.goerli\n",
    ")"
   ]
  },
  {
   "attachments": {},
   "cell_type": "markdown",
   "metadata": {},
   "source": [
    "4. prepare the data using native SDK functions \n",
    "   \n",
    "> __pub1 == pub31__. Since they are actually used to deposit into the same validator. So, be careful about the `index` prompt while using existing-mnemonic."
   ]
  },
  {
   "cell_type": "code",
   "execution_count": 8,
   "metadata": {},
   "outputs": [],
   "source": [
    "pubkeys1, sig1 = myPool.prepareProposeStake(deposit_data_path=propose_data_path)\n",
    "pubkeys31, sig31 = myPool.prepareStake(deposit_data_path=stake_data_path)"
   ]
  },
  {
   "cell_type": "code",
   "execution_count": 9,
   "metadata": {},
   "outputs": [
    {
     "name": "stdout",
     "output_type": "stream",
     "text": [
      "Operator ID: 31714947982858204937006775680871004176266839432931470523383748182266983527862 Operator maintainer: 0x77DD4eF5Be22a3A6b4E8F26ff085B6C0C27673CD Operator controller: 0xBeAe83D58B6e26Ac6b906c4129e0D96722f5dEAa\n",
      "Pool ID: 86502518581938563901485985101800597243059589530815947830543203898014478629305 Pool maintainer: 0x77DD4eF5Be22a3A6b4E8F26ff085B6C0C27673CD Pool CONTROLLER: 0xBeAe83D58B6e26Ac6b906c4129e0D96722f5dEAa\n",
      "PRIVATE ACCOUNT address: 0x77DD4eF5Be22a3A6b4E8F26ff085B6C0C27673CD\n"
     ]
    }
   ],
   "source": [
    "#dSentra-branch \n",
    "print(\"Operator ID:\",myOperator.ID, \"Operator maintainer:\",myOperator.maintainer, \"Operator controller:\", myOperator.CONTROLLER)\n",
    "print(\"Pool ID:\",myPool.ID, \"Pool maintainer:\",myPool.maintainer, \"Pool CONTROLLER:\",myPool.CONTROLLER)\n",
    "print(\"PRIVATE ACCOUNT address:\",acct.address)"
   ]
  },
  {
   "attachments": {},
   "cell_type": "markdown",
   "metadata": {},
   "source": [
    "5. Propose!"
   ]
  },
  {
   "cell_type": "code",
   "execution_count": 6,
   "metadata": {},
   "outputs": [
    {
     "ename": "ContractLogicError",
     "evalue": "execution reverted: SML: used or alienated pk",
     "output_type": "error",
     "traceback": [
      "\u001b[0;31m---------------------------------------------------------------------------\u001b[0m",
      "\u001b[0;31mContractLogicError\u001b[0m                        Traceback (most recent call last)",
      "\u001b[1;32m/home/kboom_ro/blockchain/git/RAI Foundation/Geode/Geode_SDK/geode-py-intensified/6-Creating-Validators.ipynb Cell 11\u001b[0m in \u001b[0;36m1\n\u001b[0;32m----> <a href='vscode-notebook-cell:/home/kboom_ro/blockchain/git/RAI%20Foundation/Geode/Geode_SDK/geode-py-intensified/6-Creating-Validators.ipynb#X13sZmlsZQ%3D%3D?line=0'>1</a>\u001b[0m Portal\u001b[39m.\u001b[39;49mfunctions\u001b[39m.\u001b[39;49mproposeStake(myPool\u001b[39m.\u001b[39;49mID, myOperator\u001b[39m.\u001b[39;49mID, pubkeys1, sig1, sig31,)\u001b[39m.\u001b[39;49mtransact({\u001b[39m\"\u001b[39;49m\u001b[39mfrom\u001b[39;49m\u001b[39m\"\u001b[39;49m: acct\u001b[39m.\u001b[39;49maddress})\n",
      "File \u001b[0;32m~/.local/lib/python3.10/site-packages/web3/contract/contract.py:479\u001b[0m, in \u001b[0;36mContractFunction.transact\u001b[0;34m(self, transaction)\u001b[0m\n\u001b[1;32m    477\u001b[0m \u001b[39mdef\u001b[39;00m \u001b[39mtransact\u001b[39m(\u001b[39mself\u001b[39m, transaction: Optional[TxParams] \u001b[39m=\u001b[39m \u001b[39mNone\u001b[39;00m) \u001b[39m-\u001b[39m\u001b[39m>\u001b[39m HexBytes:\n\u001b[1;32m    478\u001b[0m     setup_transaction \u001b[39m=\u001b[39m \u001b[39mself\u001b[39m\u001b[39m.\u001b[39m_transact(transaction)\n\u001b[0;32m--> 479\u001b[0m     \u001b[39mreturn\u001b[39;00m transact_with_contract_function(\n\u001b[1;32m    480\u001b[0m         \u001b[39mself\u001b[39;49m\u001b[39m.\u001b[39;49maddress,\n\u001b[1;32m    481\u001b[0m         \u001b[39mself\u001b[39;49m\u001b[39m.\u001b[39;49mw3,\n\u001b[1;32m    482\u001b[0m         \u001b[39mself\u001b[39;49m\u001b[39m.\u001b[39;49mfunction_identifier,\n\u001b[1;32m    483\u001b[0m         setup_transaction,\n\u001b[1;32m    484\u001b[0m         \u001b[39mself\u001b[39;49m\u001b[39m.\u001b[39;49mcontract_abi,\n\u001b[1;32m    485\u001b[0m         \u001b[39mself\u001b[39;49m\u001b[39m.\u001b[39;49mabi,\n\u001b[1;32m    486\u001b[0m         \u001b[39m*\u001b[39;49m\u001b[39mself\u001b[39;49m\u001b[39m.\u001b[39;49margs,\n\u001b[1;32m    487\u001b[0m         \u001b[39m*\u001b[39;49m\u001b[39m*\u001b[39;49m\u001b[39mself\u001b[39;49m\u001b[39m.\u001b[39;49mkwargs,\n\u001b[1;32m    488\u001b[0m     )\n",
      "File \u001b[0;32m~/.local/lib/python3.10/site-packages/web3/contract/utils.py:172\u001b[0m, in \u001b[0;36mtransact_with_contract_function\u001b[0;34m(address, w3, function_name, transaction, contract_abi, fn_abi, *args, **kwargs)\u001b[0m\n\u001b[1;32m    157\u001b[0m \u001b[39m\"\"\"\u001b[39;00m\n\u001b[1;32m    158\u001b[0m \u001b[39mHelper function for interacting with a contract function by sending a\u001b[39;00m\n\u001b[1;32m    159\u001b[0m \u001b[39mtransaction.\u001b[39;00m\n\u001b[1;32m    160\u001b[0m \u001b[39m\"\"\"\u001b[39;00m\n\u001b[1;32m    161\u001b[0m transact_transaction \u001b[39m=\u001b[39m prepare_transaction(\n\u001b[1;32m    162\u001b[0m     address,\n\u001b[1;32m    163\u001b[0m     w3,\n\u001b[0;32m   (...)\u001b[0m\n\u001b[1;32m    169\u001b[0m     fn_kwargs\u001b[39m=\u001b[39mkwargs,\n\u001b[1;32m    170\u001b[0m )\n\u001b[0;32m--> 172\u001b[0m txn_hash \u001b[39m=\u001b[39m w3\u001b[39m.\u001b[39;49meth\u001b[39m.\u001b[39;49msend_transaction(transact_transaction)\n\u001b[1;32m    173\u001b[0m \u001b[39mreturn\u001b[39;00m txn_hash\n",
      "File \u001b[0;32m~/.local/lib/python3.10/site-packages/web3/eth/eth.py:362\u001b[0m, in \u001b[0;36mEth.send_transaction\u001b[0;34m(self, transaction)\u001b[0m\n\u001b[1;32m    361\u001b[0m \u001b[39mdef\u001b[39;00m \u001b[39msend_transaction\u001b[39m(\u001b[39mself\u001b[39m, transaction: TxParams) \u001b[39m-\u001b[39m\u001b[39m>\u001b[39m HexBytes:\n\u001b[0;32m--> 362\u001b[0m     \u001b[39mreturn\u001b[39;00m \u001b[39mself\u001b[39;49m\u001b[39m.\u001b[39;49m_send_transaction(transaction)\n",
      "File \u001b[0;32m~/.local/lib/python3.10/site-packages/web3/module.py:68\u001b[0m, in \u001b[0;36mretrieve_blocking_method_call_fn.<locals>.caller\u001b[0;34m(*args, **kwargs)\u001b[0m\n\u001b[1;32m     62\u001b[0m     \u001b[39mreturn\u001b[39;00m LogFilter(eth_module\u001b[39m=\u001b[39mmodule, filter_id\u001b[39m=\u001b[39merr\u001b[39m.\u001b[39mfilter_id)\n\u001b[1;32m     63\u001b[0m (\n\u001b[1;32m     64\u001b[0m     result_formatters,\n\u001b[1;32m     65\u001b[0m     error_formatters,\n\u001b[1;32m     66\u001b[0m     null_result_formatters,\n\u001b[1;32m     67\u001b[0m ) \u001b[39m=\u001b[39m response_formatters\n\u001b[0;32m---> 68\u001b[0m result \u001b[39m=\u001b[39m w3\u001b[39m.\u001b[39;49mmanager\u001b[39m.\u001b[39;49mrequest_blocking(\n\u001b[1;32m     69\u001b[0m     method_str, params, error_formatters, null_result_formatters\n\u001b[1;32m     70\u001b[0m )\n\u001b[1;32m     71\u001b[0m \u001b[39mreturn\u001b[39;00m apply_result_formatters(result_formatters, result)\n",
      "File \u001b[0;32m~/.local/lib/python3.10/site-packages/web3/manager.py:231\u001b[0m, in \u001b[0;36mRequestManager.request_blocking\u001b[0;34m(self, method, params, error_formatters, null_result_formatters)\u001b[0m\n\u001b[1;32m    221\u001b[0m \u001b[39mdef\u001b[39;00m \u001b[39mrequest_blocking\u001b[39m(\n\u001b[1;32m    222\u001b[0m     \u001b[39mself\u001b[39m,\n\u001b[1;32m    223\u001b[0m     method: Union[RPCEndpoint, Callable[\u001b[39m.\u001b[39m\u001b[39m.\u001b[39m\u001b[39m.\u001b[39m, RPCEndpoint]],\n\u001b[0;32m   (...)\u001b[0m\n\u001b[1;32m    226\u001b[0m     null_result_formatters: Optional[Callable[\u001b[39m.\u001b[39m\u001b[39m.\u001b[39m\u001b[39m.\u001b[39m, Any]] \u001b[39m=\u001b[39m \u001b[39mNone\u001b[39;00m,\n\u001b[1;32m    227\u001b[0m ) \u001b[39m-\u001b[39m\u001b[39m>\u001b[39m Any:\n\u001b[1;32m    228\u001b[0m     \u001b[39m\"\"\"\u001b[39;00m\n\u001b[1;32m    229\u001b[0m \u001b[39m    Make a synchronous request using the provider\u001b[39;00m\n\u001b[1;32m    230\u001b[0m \u001b[39m    \"\"\"\u001b[39;00m\n\u001b[0;32m--> 231\u001b[0m     response \u001b[39m=\u001b[39m \u001b[39mself\u001b[39;49m\u001b[39m.\u001b[39;49m_make_request(method, params)\n\u001b[1;32m    232\u001b[0m     \u001b[39mreturn\u001b[39;00m \u001b[39mself\u001b[39m\u001b[39m.\u001b[39mformatted_response(\n\u001b[1;32m    233\u001b[0m         response, params, error_formatters, null_result_formatters\n\u001b[1;32m    234\u001b[0m     )\n",
      "File \u001b[0;32m~/.local/lib/python3.10/site-packages/web3/manager.py:175\u001b[0m, in \u001b[0;36mRequestManager._make_request\u001b[0;34m(self, method, params)\u001b[0m\n\u001b[1;32m    171\u001b[0m request_func \u001b[39m=\u001b[39m provider\u001b[39m.\u001b[39mrequest_func(\n\u001b[1;32m    172\u001b[0m     cast(\u001b[39m\"\u001b[39m\u001b[39mWeb3\u001b[39m\u001b[39m\"\u001b[39m, \u001b[39mself\u001b[39m\u001b[39m.\u001b[39mw3), cast(MiddlewareOnion, \u001b[39mself\u001b[39m\u001b[39m.\u001b[39mmiddleware_onion)\n\u001b[1;32m    173\u001b[0m )\n\u001b[1;32m    174\u001b[0m \u001b[39mself\u001b[39m\u001b[39m.\u001b[39mlogger\u001b[39m.\u001b[39mdebug(\u001b[39mf\u001b[39m\u001b[39m\"\u001b[39m\u001b[39mMaking request. Method: \u001b[39m\u001b[39m{\u001b[39;00mmethod\u001b[39m}\u001b[39;00m\u001b[39m\"\u001b[39m)\n\u001b[0;32m--> 175\u001b[0m \u001b[39mreturn\u001b[39;00m request_func(method, params)\n",
      "File \u001b[0;32m~/.local/lib/python3.10/site-packages/web3/middleware/signing.py:161\u001b[0m, in \u001b[0;36mconstruct_sign_and_send_raw_middleware.<locals>.sign_and_send_raw_middleware.<locals>.middleware\u001b[0;34m(method, params)\u001b[0m\n\u001b[1;32m    159\u001b[0m     \u001b[39mreturn\u001b[39;00m make_request(method, params)\n\u001b[1;32m    160\u001b[0m \u001b[39melse\u001b[39;00m:\n\u001b[0;32m--> 161\u001b[0m     transaction \u001b[39m=\u001b[39m format_and_fill_tx(params[\u001b[39m0\u001b[39;49m])\n\u001b[1;32m    163\u001b[0m \u001b[39mif\u001b[39;00m \u001b[39m\"\u001b[39m\u001b[39mfrom\u001b[39m\u001b[39m\"\u001b[39m \u001b[39mnot\u001b[39;00m \u001b[39min\u001b[39;00m transaction:\n\u001b[1;32m    164\u001b[0m     \u001b[39mreturn\u001b[39;00m make_request(method, params)\n",
      "File \u001b[0;32m~/.local/lib/python3.10/site-packages/cytoolz/functoolz.pyx:518\u001b[0m, in \u001b[0;36mcytoolz.functoolz.Compose.__call__\u001b[0;34m()\u001b[0m\n",
      "File \u001b[0;32m~/.local/lib/python3.10/site-packages/cytoolz/functoolz.pyx:263\u001b[0m, in \u001b[0;36mcytoolz.functoolz.curry.__call__\u001b[0;34m()\u001b[0m\n",
      "File \u001b[0;32m~/.local/lib/python3.10/site-packages/web3/_utils/transactions.py:132\u001b[0m, in \u001b[0;36mfill_transaction_defaults\u001b[0;34m(w3, transaction)\u001b[0m\n\u001b[1;32m    128\u001b[0m     \u001b[39mif\u001b[39;00m w3 \u001b[39mis\u001b[39;00m \u001b[39mNone\u001b[39;00m:\n\u001b[1;32m    129\u001b[0m         \u001b[39mraise\u001b[39;00m \u001b[39mValueError\u001b[39;00m(\n\u001b[1;32m    130\u001b[0m             \u001b[39mf\u001b[39m\u001b[39m\"\u001b[39m\u001b[39mYou must specify a \u001b[39m\u001b[39m'\u001b[39m\u001b[39m{\u001b[39;00mkey\u001b[39m}\u001b[39;00m\u001b[39m'\u001b[39m\u001b[39m value in the transaction\u001b[39m\u001b[39m\"\u001b[39m\n\u001b[1;32m    131\u001b[0m         )\n\u001b[0;32m--> 132\u001b[0m     default_val \u001b[39m=\u001b[39m default_getter(w3, transaction)\n\u001b[1;32m    133\u001b[0m \u001b[39melse\u001b[39;00m:\n\u001b[1;32m    134\u001b[0m     default_val \u001b[39m=\u001b[39m default_getter\n",
      "File \u001b[0;32m~/.local/lib/python3.10/site-packages/web3/_utils/transactions.py:72\u001b[0m, in \u001b[0;36m<lambda>\u001b[0;34m(w3, tx)\u001b[0m\n\u001b[1;32m     39\u001b[0m TX_PARAM_LITERALS \u001b[39m=\u001b[39m Literal[\n\u001b[1;32m     40\u001b[0m     \u001b[39m\"\u001b[39m\u001b[39mtype\u001b[39m\u001b[39m\"\u001b[39m,\n\u001b[1;32m     41\u001b[0m     \u001b[39m\"\u001b[39m\u001b[39mfrom\u001b[39m\u001b[39m\"\u001b[39m,\n\u001b[0;32m   (...)\u001b[0m\n\u001b[1;32m     51\u001b[0m     \u001b[39m\"\u001b[39m\u001b[39maccessList\u001b[39m\u001b[39m\"\u001b[39m,\n\u001b[1;32m     52\u001b[0m ]\n\u001b[1;32m     54\u001b[0m VALID_TRANSACTION_PARAMS: List[TX_PARAM_LITERALS] \u001b[39m=\u001b[39m [\n\u001b[1;32m     55\u001b[0m     \u001b[39m\"\u001b[39m\u001b[39mtype\u001b[39m\u001b[39m\"\u001b[39m,\n\u001b[1;32m     56\u001b[0m     \u001b[39m\"\u001b[39m\u001b[39mfrom\u001b[39m\u001b[39m\"\u001b[39m,\n\u001b[0;32m   (...)\u001b[0m\n\u001b[1;32m     66\u001b[0m     \u001b[39m\"\u001b[39m\u001b[39mchainId\u001b[39m\u001b[39m\"\u001b[39m,\n\u001b[1;32m     67\u001b[0m ]\n\u001b[1;32m     69\u001b[0m TRANSACTION_DEFAULTS \u001b[39m=\u001b[39m {\n\u001b[1;32m     70\u001b[0m     \u001b[39m\"\u001b[39m\u001b[39mvalue\u001b[39m\u001b[39m\"\u001b[39m: \u001b[39m0\u001b[39m,\n\u001b[1;32m     71\u001b[0m     \u001b[39m\"\u001b[39m\u001b[39mdata\u001b[39m\u001b[39m\"\u001b[39m: \u001b[39mb\u001b[39m\u001b[39m\"\u001b[39m\u001b[39m\"\u001b[39m,\n\u001b[0;32m---> 72\u001b[0m     \u001b[39m\"\u001b[39m\u001b[39mgas\u001b[39m\u001b[39m\"\u001b[39m: \u001b[39mlambda\u001b[39;00m w3, tx: w3\u001b[39m.\u001b[39;49meth\u001b[39m.\u001b[39;49mestimate_gas(tx),\n\u001b[1;32m     73\u001b[0m     \u001b[39m\"\u001b[39m\u001b[39mgasPrice\u001b[39m\u001b[39m\"\u001b[39m: \u001b[39mlambda\u001b[39;00m w3, tx: w3\u001b[39m.\u001b[39meth\u001b[39m.\u001b[39mgenerate_gas_price(tx),\n\u001b[1;32m     74\u001b[0m     \u001b[39m\"\u001b[39m\u001b[39mmaxFeePerGas\u001b[39m\u001b[39m\"\u001b[39m: (\n\u001b[1;32m     75\u001b[0m         \u001b[39mlambda\u001b[39;00m w3, tx: w3\u001b[39m.\u001b[39meth\u001b[39m.\u001b[39mmax_priority_fee\n\u001b[1;32m     76\u001b[0m         \u001b[39m+\u001b[39m (\u001b[39m2\u001b[39m \u001b[39m*\u001b[39m w3\u001b[39m.\u001b[39meth\u001b[39m.\u001b[39mget_block(\u001b[39m\"\u001b[39m\u001b[39mlatest\u001b[39m\u001b[39m\"\u001b[39m)[\u001b[39m\"\u001b[39m\u001b[39mbaseFeePerGas\u001b[39m\u001b[39m\"\u001b[39m])\n\u001b[1;32m     77\u001b[0m     ),\n\u001b[1;32m     78\u001b[0m     \u001b[39m\"\u001b[39m\u001b[39mmaxPriorityFeePerGas\u001b[39m\u001b[39m\"\u001b[39m: \u001b[39mlambda\u001b[39;00m w3, tx: w3\u001b[39m.\u001b[39meth\u001b[39m.\u001b[39mmax_priority_fee,\n\u001b[1;32m     79\u001b[0m     \u001b[39m\"\u001b[39m\u001b[39mchainId\u001b[39m\u001b[39m\"\u001b[39m: \u001b[39mlambda\u001b[39;00m w3, tx: w3\u001b[39m.\u001b[39meth\u001b[39m.\u001b[39mchain_id,\n\u001b[1;32m     80\u001b[0m }\n\u001b[1;32m     82\u001b[0m \u001b[39mif\u001b[39;00m TYPE_CHECKING:\n\u001b[1;32m     83\u001b[0m     \u001b[39mfrom\u001b[39;00m \u001b[39mweb3\u001b[39;00m \u001b[39mimport\u001b[39;00m (  \u001b[39m# noqa: F401\u001b[39;00m\n\u001b[1;32m     84\u001b[0m         AsyncWeb3,\n\u001b[1;32m     85\u001b[0m         Web3,\n\u001b[1;32m     86\u001b[0m     )\n",
      "File \u001b[0;32m~/.local/lib/python3.10/site-packages/web3/eth/eth.py:292\u001b[0m, in \u001b[0;36mEth.estimate_gas\u001b[0;34m(self, transaction, block_identifier)\u001b[0m\n\u001b[1;32m    289\u001b[0m \u001b[39mdef\u001b[39;00m \u001b[39mestimate_gas\u001b[39m(\n\u001b[1;32m    290\u001b[0m     \u001b[39mself\u001b[39m, transaction: TxParams, block_identifier: Optional[BlockIdentifier] \u001b[39m=\u001b[39m \u001b[39mNone\u001b[39;00m\n\u001b[1;32m    291\u001b[0m ) \u001b[39m-\u001b[39m\u001b[39m>\u001b[39m \u001b[39mint\u001b[39m:\n\u001b[0;32m--> 292\u001b[0m     \u001b[39mreturn\u001b[39;00m \u001b[39mself\u001b[39;49m\u001b[39m.\u001b[39;49m_estimate_gas(transaction, block_identifier)\n",
      "File \u001b[0;32m~/.local/lib/python3.10/site-packages/web3/module.py:68\u001b[0m, in \u001b[0;36mretrieve_blocking_method_call_fn.<locals>.caller\u001b[0;34m(*args, **kwargs)\u001b[0m\n\u001b[1;32m     62\u001b[0m     \u001b[39mreturn\u001b[39;00m LogFilter(eth_module\u001b[39m=\u001b[39mmodule, filter_id\u001b[39m=\u001b[39merr\u001b[39m.\u001b[39mfilter_id)\n\u001b[1;32m     63\u001b[0m (\n\u001b[1;32m     64\u001b[0m     result_formatters,\n\u001b[1;32m     65\u001b[0m     error_formatters,\n\u001b[1;32m     66\u001b[0m     null_result_formatters,\n\u001b[1;32m     67\u001b[0m ) \u001b[39m=\u001b[39m response_formatters\n\u001b[0;32m---> 68\u001b[0m result \u001b[39m=\u001b[39m w3\u001b[39m.\u001b[39;49mmanager\u001b[39m.\u001b[39;49mrequest_blocking(\n\u001b[1;32m     69\u001b[0m     method_str, params, error_formatters, null_result_formatters\n\u001b[1;32m     70\u001b[0m )\n\u001b[1;32m     71\u001b[0m \u001b[39mreturn\u001b[39;00m apply_result_formatters(result_formatters, result)\n",
      "File \u001b[0;32m~/.local/lib/python3.10/site-packages/web3/manager.py:232\u001b[0m, in \u001b[0;36mRequestManager.request_blocking\u001b[0;34m(self, method, params, error_formatters, null_result_formatters)\u001b[0m\n\u001b[1;32m    228\u001b[0m \u001b[39m\"\"\"\u001b[39;00m\n\u001b[1;32m    229\u001b[0m \u001b[39mMake a synchronous request using the provider\u001b[39;00m\n\u001b[1;32m    230\u001b[0m \u001b[39m\"\"\"\u001b[39;00m\n\u001b[1;32m    231\u001b[0m response \u001b[39m=\u001b[39m \u001b[39mself\u001b[39m\u001b[39m.\u001b[39m_make_request(method, params)\n\u001b[0;32m--> 232\u001b[0m \u001b[39mreturn\u001b[39;00m \u001b[39mself\u001b[39;49m\u001b[39m.\u001b[39;49mformatted_response(\n\u001b[1;32m    233\u001b[0m     response, params, error_formatters, null_result_formatters\n\u001b[1;32m    234\u001b[0m )\n",
      "File \u001b[0;32m~/.local/lib/python3.10/site-packages/web3/manager.py:197\u001b[0m, in \u001b[0;36mRequestManager.formatted_response\u001b[0;34m(response, params, error_formatters, null_result_formatters)\u001b[0m\n\u001b[1;32m    189\u001b[0m \u001b[39m@staticmethod\u001b[39m\n\u001b[1;32m    190\u001b[0m \u001b[39mdef\u001b[39;00m \u001b[39mformatted_response\u001b[39m(\n\u001b[1;32m    191\u001b[0m     response: RPCResponse,\n\u001b[0;32m   (...)\u001b[0m\n\u001b[1;32m    194\u001b[0m     null_result_formatters: Optional[Callable[\u001b[39m.\u001b[39m\u001b[39m.\u001b[39m\u001b[39m.\u001b[39m, Any]] \u001b[39m=\u001b[39m \u001b[39mNone\u001b[39;00m,\n\u001b[1;32m    195\u001b[0m ) \u001b[39m-\u001b[39m\u001b[39m>\u001b[39m Any:\n\u001b[1;32m    196\u001b[0m     \u001b[39mif\u001b[39;00m \u001b[39m\"\u001b[39m\u001b[39merror\u001b[39m\u001b[39m\"\u001b[39m \u001b[39min\u001b[39;00m response:\n\u001b[0;32m--> 197\u001b[0m         apply_error_formatters(error_formatters, response)\n\u001b[1;32m    199\u001b[0m         \u001b[39m# guard against eth-tester case - eth-tester returns a string\u001b[39;00m\n\u001b[1;32m    200\u001b[0m         \u001b[39m# with no code, so can't parse what the error is.\u001b[39;00m\n\u001b[1;32m    201\u001b[0m         \u001b[39mif\u001b[39;00m \u001b[39misinstance\u001b[39m(response[\u001b[39m\"\u001b[39m\u001b[39merror\u001b[39m\u001b[39m\"\u001b[39m], \u001b[39mdict\u001b[39m):\n",
      "File \u001b[0;32m~/.local/lib/python3.10/site-packages/web3/manager.py:73\u001b[0m, in \u001b[0;36mapply_error_formatters\u001b[0;34m(error_formatters, response)\u001b[0m\n\u001b[1;32m     68\u001b[0m \u001b[39mdef\u001b[39;00m \u001b[39mapply_error_formatters\u001b[39m(\n\u001b[1;32m     69\u001b[0m     error_formatters: Callable[\u001b[39m.\u001b[39m\u001b[39m.\u001b[39m\u001b[39m.\u001b[39m, Any],\n\u001b[1;32m     70\u001b[0m     response: RPCResponse,\n\u001b[1;32m     71\u001b[0m ) \u001b[39m-\u001b[39m\u001b[39m>\u001b[39m RPCResponse:\n\u001b[1;32m     72\u001b[0m     \u001b[39mif\u001b[39;00m error_formatters:\n\u001b[0;32m---> 73\u001b[0m         formatted_resp \u001b[39m=\u001b[39m pipe(response, error_formatters)\n\u001b[1;32m     74\u001b[0m         \u001b[39mreturn\u001b[39;00m formatted_resp\n\u001b[1;32m     75\u001b[0m     \u001b[39melse\u001b[39;00m:\n",
      "File \u001b[0;32m~/.local/lib/python3.10/site-packages/cytoolz/functoolz.pyx:680\u001b[0m, in \u001b[0;36mcytoolz.functoolz.pipe\u001b[0;34m()\u001b[0m\n",
      "File \u001b[0;32m~/.local/lib/python3.10/site-packages/cytoolz/functoolz.pyx:655\u001b[0m, in \u001b[0;36mcytoolz.functoolz.c_pipe\u001b[0;34m()\u001b[0m\n",
      "File \u001b[0;32m~/.local/lib/python3.10/site-packages/web3/_utils/method_formatters.py:782\u001b[0m, in \u001b[0;36mraise_contract_logic_error_on_revert\u001b[0;34m(response)\u001b[0m\n\u001b[1;32m    780\u001b[0m \u001b[39mif\u001b[39;00m \u001b[39m\"\u001b[39m\u001b[39mmessage\u001b[39m\u001b[39m\"\u001b[39m \u001b[39min\u001b[39;00m response[\u001b[39m\"\u001b[39m\u001b[39merror\u001b[39m\u001b[39m\"\u001b[39m] \u001b[39mand\u001b[39;00m response[\u001b[39m\"\u001b[39m\u001b[39merror\u001b[39m\u001b[39m\"\u001b[39m]\u001b[39m.\u001b[39mget(\u001b[39m\"\u001b[39m\u001b[39mcode\u001b[39m\u001b[39m\"\u001b[39m, \u001b[39m\"\u001b[39m\u001b[39m\"\u001b[39m) \u001b[39m==\u001b[39m \u001b[39m3\u001b[39m:\n\u001b[1;32m    781\u001b[0m     message \u001b[39m=\u001b[39m response[\u001b[39m\"\u001b[39m\u001b[39merror\u001b[39m\u001b[39m\"\u001b[39m][\u001b[39m\"\u001b[39m\u001b[39mmessage\u001b[39m\u001b[39m\"\u001b[39m]\n\u001b[0;32m--> 782\u001b[0m     \u001b[39mraise\u001b[39;00m ContractLogicError(message, data\u001b[39m=\u001b[39mdata)\n\u001b[1;32m    784\u001b[0m \u001b[39m# Geth Revert without error message case:\u001b[39;00m\n\u001b[1;32m    785\u001b[0m \u001b[39mif\u001b[39;00m \u001b[39m\"\u001b[39m\u001b[39mexecution reverted\u001b[39m\u001b[39m\"\u001b[39m \u001b[39min\u001b[39;00m response[\u001b[39m\"\u001b[39m\u001b[39merror\u001b[39m\u001b[39m\"\u001b[39m]\u001b[39m.\u001b[39mget(\u001b[39m\"\u001b[39m\u001b[39mmessage\u001b[39m\u001b[39m\"\u001b[39m):\n",
      "\u001b[0;31mContractLogicError\u001b[0m: execution reverted: SML: used or alienated pk"
     ]
    }
   ],
   "source": [
    "Portal.functions.proposeStake(myPool.ID, myOperator.ID, pubkeys1, sig1, sig31,).transact({\"from\": acct.address}) "
   ]
  },
  {
   "cell_type": "code",
   "execution_count": 114,
   "metadata": {},
   "outputs": [
    {
     "data": {
      "text/plain": [
       "True"
      ]
     },
     "execution_count": 114,
     "metadata": {},
     "output_type": "execute_result"
    }
   ],
   "source": [
    "pubkey=\"0x973ebcb9605afdcda77fac8c50f1ddbbb9f2bfbabbe41d3133a2adcb7d0c7c0a7fa1bc6736dbdb2784cc70ca86b0b2b1\"\n",
    "          \n",
    "Portal.functions.canStake(pubkey).call()\n"
   ]
  },
  {
   "attachments": {},
   "cell_type": "markdown",
   "metadata": {},
   "source": [
    "6. Wait until approved...\n",
    "Honestly, it should take a day max. But, you can listen `VerificationIndexUpdated` event, which is emitted every time Oracle approves a batch of proposals. Or, simply check the `Portal.canStake(pubkey)` function periodically.\n",
    "\n",
    "> VerificationIndexUpdated Event ABI:\n",
    "> \n",
    "> ```\n",
    ">  {\n",
    ">    \"anonymous\": false,\n",
    ">    \"inputs\": [\n",
    ">      {\n",
    ">        \"indexed\": false,\n",
    ">        \"internalType\": \"uint256\",\n",
    ">        \"name\": \"validatorVerificationIndex\",\n",
    ">        \"type\": \"uint256\"\n",
    ">      }\n",
    ">    ],\n",
    ">    \"name\": \"VerificationIndexUpdated\",\n",
    ">    \"type\": \"event\"\n",
    ">  }\n",
    ">```"
   ]
  },
  {
   "cell_type": "code",
   "execution_count": 113,
   "metadata": {},
   "outputs": [
    {
     "name": "stdout",
     "output_type": "stream",
     "text": [
      "()\n"
     ]
    }
   ],
   "source": [
    "#GEODE Portal contract instance VerificationIndexUpdated Event ABI:=\n",
    "import json\n",
    "abi = json.loads('[{\"anonymous\": false, \"inputs\": [{\"indexed\": false,\"internalType\": \"uint256\",\"name\": \"validatorVerificationIndex\",\"type\": \"uint256\"}],\"name\":\"VerificationIndexUpdated\",\"type\": \"event\"},{\"name\":\"ControllerChanged\",\"type\":\"event\", \"inputs\":[]}]')\n",
    "#GEODE Portal contract  - proxy instance - Address\n",
    "contract_address = \"0xFAF3b3eE96Fa210Cf196CDa9015384dE049Fa2a8\"\n",
    "contract_instance = G.w3.eth.contract(address= contract_address, abi=abi)\n",
    "# fetch IndexUpdated events in the last block\n",
    "params = {\"fromBlock\": G.w3.eth.block_number}\n",
    "logs = contract_instance.events.VerificationIndexUpdated.get_logs(params)\n",
    "print(logs)\n"
   ]
  },
  {
   "attachments": {},
   "cell_type": "markdown",
   "metadata": {},
   "source": [
    "7. Stake!"
   ]
  },
  {
   "cell_type": "code",
   "execution_count": 115,
   "metadata": {},
   "outputs": [
    {
     "data": {
      "text/plain": [
       "HexBytes('0x0426461d0adfa118cfd700e0b38a09da495e4fbb2b5156f62ec1c054e778e227')"
      ]
     },
     "execution_count": 115,
     "metadata": {},
     "output_type": "execute_result"
    }
   ],
   "source": [
    "Portal.functions.stake(myOperator.ID, pubkeys1).transact({\"from\": acct.address})"
   ]
  }
 ],
 "metadata": {
  "kernelspec": {
   "display_name": "venv",
   "language": "python",
   "name": "python3"
  },
  "language_info": {
   "codemirror_mode": {
    "name": "ipython",
    "version": 3
   },
   "file_extension": ".py",
   "mimetype": "text/x-python",
   "name": "python",
   "nbconvert_exporter": "python",
   "pygments_lexer": "ipython3",
   "version": "3.10.6"
  },
  "orig_nbformat": 4,
  "vscode": {
   "interpreter": {
    "hash": "b1b6c5072c5a50f6d2400b07d553322444e3342f0da0ae61087b066e28ec204a"
   }
  }
 },
 "nbformat": 4,
 "nbformat_minor": 2
}
