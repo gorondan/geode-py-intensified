{
 "cells": [
  {
   "cell_type": "code",
   "execution_count": null,
   "metadata": {},
   "outputs": [],
   "source": [
    "# IGNORE THIS :3\n",
    "import os\n",
    "from geode import Geode\n",
    "G = Geode(exec_api = os.environ['EXECUTION_API'], cons_key = os.environ['CONSENSUS_KEY'])\n",
    "Portal = G.Portal\n",
    "# IGNORE THIS :3\n",
    "print(os.environ['EXECUTION_API'])"
   ]
  },
  {
   "attachments": {},
   "cell_type": "markdown",
   "metadata": {},
   "source": [
    "# .transact()"
   ]
  },
  {
   "cell_type": "code",
   "execution_count": null,
   "metadata": {},
   "outputs": [],
   "source": [
    "# setting up an account for Geodefi\n",
    "from web3.middleware import construct_sign_and_send_raw_middleware\n",
    "private_key = os.environ[\"PRIVATE_KEY\"] # name it to something else!!!\n",
    "\n",
    "# Create account on Geode's web3py instance\n",
    "acct = G.w3.eth.account.from_key(private_key)\n",
    "\n",
    "# Allow Geodefi to use your private key\n",
    "G.w3.middleware_onion.add(construct_sign_and_send_raw_middleware(acct))\n",
    "\n",
    "# Set default account if one address is used generally\n",
    "G.w3.eth.defaultAccount = acct"
   ]
  },
  {
   "cell_type": "code",
   "execution_count": null,
   "metadata": {},
   "outputs": [],
   "source": [
    "import math\n",
    "\n",
    "from geode import Geode, globals\n",
    "oid = Portal.functions.allIdsByType(globals.ID_TYPE.OPERATOR, 6).call()\n",
    "myOperator = Portal.operator(oid)"
   ]
  },
  {
   "cell_type": "code",
   "execution_count": 25,
   "metadata": {},
   "outputs": [
    {
     "name": "stdout",
     "output_type": "stream",
     "text": [
      "0x77DD4eF5Be22a3A6b4E8F26ff085B6C0C27673CD\n",
      "dSentra 31714947982858204937006775680871004176266839432931470523383748182266983527862\n",
      "0xBeAe83D58B6e26Ac6b906c4129e0D96722f5dEAa 0x77DD4eF5Be22a3A6b4E8F26ff085B6C0C27673CD\n"
     ]
    }
   ],
   "source": [
    "print(acct.address)\n",
    "print(myOperator.NAME, myOperator.ID)\n",
    "print(myOperator.CONTROLLER, myOperator.maintainer)"
   ]
  },
  {
   "attachments": {},
   "cell_type": "markdown",
   "metadata": {},
   "source": [
    "## Example #1:"
   ]
  },
  {
   "attachments": {},
   "cell_type": "markdown",
   "metadata": {},
   "source": [
    "Lets fund your ID's wallet, you will get your money back when the proposal is approved.\n",
    ">Note that you can use MAINTAINER or CONTROLLER credentials"
   ]
  },
  {
   "cell_type": "code",
   "execution_count": 27,
   "metadata": {},
   "outputs": [
    {
     "data": {
      "text/plain": [
       "HexBytes('0x3e9c0017d34649b13624002e818746742103f8c404286189f2df8582f10d6ed6')"
      ]
     },
     "execution_count": 27,
     "metadata": {},
     "output_type": "execute_result"
    }
   ],
   "source": [
    "Portal.functions.increaseWalletBalance(myOperator.ID).transact({\"from\": acct.address, \"value\":math.floor(1e6)})"
   ]
  },
  {
   "cell_type": "markdown",
   "metadata": {},
   "source": [
    "You can get back with `decreaseWalletBalance` function too.\n",
    ">Note that you must use CONTROLLER credentials"
   ]
  },
  {
   "cell_type": "code",
   "execution_count": null,
   "metadata": {},
   "outputs": [],
   "source": [
    "Portal.functions.decreaseWalletBalance(myOperator.ID, 1000).transact({\"from\":'0xBeAe83D58B6e26Ac6b906c4129e0D96722f5dEAa'})"
   ]
  },
  {
   "cell_type": "markdown",
   "metadata": {},
   "source": [
    "## Example #2:"
   ]
  },
  {
   "cell_type": "code",
   "execution_count": null,
   "metadata": {},
   "outputs": [],
   "source": [
    "newMaintainer = \"0x...123\"\n",
    "Portal.functions.changeMaintainer(myOperator.ID,newMaintainer).transact({\"from\": <<acct.address>>})"
   ]
  }
 ],
 "metadata": {
  "kernelspec": {
   "display_name": "venv",
   "language": "python",
   "name": "python3"
  },
  "language_info": {
   "codemirror_mode": {
    "name": "ipython",
    "version": 3
   },
   "file_extension": ".py",
   "mimetype": "text/x-python",
   "name": "python",
   "nbconvert_exporter": "python",
   "pygments_lexer": "ipython3",
   "version": "3.10.6"
  },
  "orig_nbformat": 4,
  "vscode": {
   "interpreter": {
    "hash": "b1b6c5072c5a50f6d2400b07d553322444e3342f0da0ae61087b066e28ec204a"
   }
  }
 },
 "nbformat": 4,
 "nbformat_minor": 2
}
