{
 "cells": [
  {
   "attachments": {},
   "cell_type": "markdown",
   "metadata": {},
   "source": [
    "# Getting Started"
   ]
  },
  {
   "attachments": {},
   "cell_type": "markdown",
   "metadata": {},
   "source": [
    "### In-depth details with logger\n",
    "To see some insight, simply set the logger level to `INFO` or even `DEBUG`."
   ]
  },
  {
   "cell_type": "code",
   "execution_count": 1,
   "metadata": {},
   "outputs": [],
   "source": [
    "import logging\n",
    "logging.basicConfig(level=logging.INFO, format='%(levelname)s : %(message)s')"
   ]
  },
  {
   "attachments": {},
   "cell_type": "markdown",
   "metadata": {},
   "source": [
    "### Initializing the `Geode` Object\n",
    "> `geode.Geode` will automatically detect the chain."
   ]
  },
  {
   "cell_type": "code",
   "execution_count": 2,
   "metadata": {},
   "outputs": [
    {
     "name": "stderr",
     "output_type": "stream",
     "text": [
      "INFO : Connected to beconcha.in:https://goerli.beaconcha.in/api/v1/\n",
      "INFO : Token:gETH\n",
      "INFO : Portal:goerli head is on 'v1.2'\n"
     ]
    }
   ],
   "source": [
    "import os\n",
    "from geode import Geode\n",
    "\n",
    "EXECUTION_API = os.environ['EXECUTION_API']\n",
    "CONSENSUS_KEY = os.environ['CONSENSUS_KEY']\n",
    "PRIVATE_KEY = os.environ['PRIVATE_KEY']\n",
    "\n",
    "# \"G\" is our Geode object instance\n",
    "G = Geode(exec_api = EXECUTION_API, cons_key = CONSENSUS_KEY)"
   ]
  },
  {
   "attachments": {},
   "cell_type": "markdown",
   "metadata": {},
   "source": [
    "### Configuring `geode.Geode`\n",
    "\n",
    "> Onchain data changes slowly. So, geodefi utilizes a local cache. Not all calls are effective immediately. But you can configure it.\n",
    "> geodefi strikes with multiple attempts if any outside call fails.  "
   ]
  },
  {
   "cell_type": "code",
   "execution_count": 3,
   "metadata": {},
   "outputs": [],
   "source": [
    "G.REFRESH_RATE = 60  # cached data will be refreshed after 60 seconds\n",
    "G.MAX_ATTEMPT = 50 # request will fail after 50 calls.\n",
    "G.ATTEMPT_RATE = 0.1  # interval between calls (in seconds)"
   ]
  },
  {
   "attachments": {},
   "cell_type": "markdown",
   "metadata": {},
   "source": [
    "## `Portal` class\n",
    "Portal is one of the packages. The most important one. Some other packages are; `WithdrawalContract` and `LiquidityPool`.\n",
    "\n",
    "Every Pool has a unique WithdrawalContract, which is used for the Withdrawal Credential. Thus, when a validator is created, funds are no longer custodied to Portal.\n",
    "\n",
    "Portal hosts the `depositing pools` where the funds will be used to create validators. Portal also hosts the Operator marketplace. Thus, we will mostly use Portal."
   ]
  },
  {
   "cell_type": "code",
   "execution_count": 4,
   "metadata": {},
   "outputs": [],
   "source": [
    "Portal = G.Portal"
   ]
  },
  {
   "cell_type": "code",
   "execution_count": 5,
   "metadata": {},
   "outputs": [
    {
     "data": {
      "text/plain": [
       "('0x2C95BC18Fd9382a07776D416EeF6c2FEb3AD2A8C',\n",
       " '0x2C95BC18Fd9382a07776D416EeF6c2FEb3AD2A8C',\n",
       " '0x6699580E23Fc6a802e996a654845348CA560bc94',\n",
       " 1717847448,\n",
       " 10001)"
      ]
     },
     "execution_count": 5,
     "metadata": {},
     "output_type": "execute_result"
    }
   ],
   "source": [
    "(governance,\n",
    "senate,\n",
    "approvedUpgrade,\n",
    "senateExpiry,\n",
    "packageType) = Portal.functions.GeodeParams().call()\n",
    "\n",
    "governance,senate,approvedUpgrade,senateExpiry,packageType"
   ]
  },
  {
   "attachments": {},
   "cell_type": "markdown",
   "metadata": {},
   "source": [
    "#### Note\n",
    "GeodeParams funciton can be used with other packages to obtain the details about the dual governance of the package. \n",
    "\n",
    "Such as Liquidity Pool and Withdrawal Contract, where Governance(proposer) is the pool owner, and Senate (approver) is Portal. Thus, Portal can handle their version management with a dual governance.\n",
    "\n",
    "However, Liquidity Pool has LiquidityParams instead of StakeParams. Because Portal has staking related functionalities, while Liquidity Pool has liquidity related functionalities."
   ]
  },
  {
   "cell_type": "code",
   "execution_count": 6,
   "metadata": {},
   "outputs": [
    {
     "data": {
      "text/plain": [
       "('0x3f911696044d000CcF7D085e35b060e846b95f56',\n",
       " '0x2C95BC18Fd9382a07776D416EeF6c2FEb3AD2A8C',\n",
       " 3,\n",
       " 0,\n",
       " 500000,\n",
       " 0,\n",
       " 700000000,\n",
       " 700000000,\n",
       " 0,\n",
       " b'\\x00\\x00\\x00\\x00\\x00\\x00\\x00\\x00\\x00\\x00\\x00\\x00\\x00\\x00\\x00\\x00\\x00\\x00\\x00\\x00\\x00\\x00\\x00\\x00\\x00\\x00\\x00\\x00\\x00\\x00\\x00\\x00',\n",
       " b'\\x00\\x00\\x00\\x00\\x00\\x00\\x00\\x00\\x00\\x00\\x00\\x00\\x00\\x00\\x00\\x00\\x00\\x00\\x00\\x00\\x00\\x00\\x00\\x00\\x00\\x00\\x00\\x00\\x00\\x00\\x00\\x00')"
      ]
     },
     "execution_count": 6,
     "metadata": {},
     "output_type": "execute_result"
    }
   ],
   "source": [
    "(gETH,\n",
    "oraclePosition,\n",
    "validatorsIndex,\n",
    "verificationIndex,\n",
    "monopolyThreshold,\n",
    "oracleUpdateTimestamp,\n",
    "dailyPriceIncreaseLimit,\n",
    "dailyPriceDecreaseLimit,\n",
    "governanceFee,\n",
    "priceMerkleRoot,\n",
    "balanceMerkleRoot) = Portal.functions.StakeParams().call()\n",
    "\n",
    "gETH,oraclePosition,validatorsIndex,verificationIndex,monopolyThreshold,oracleUpdateTimestamp,dailyPriceIncreaseLimit,dailyPriceDecreaseLimit,governanceFee,priceMerkleRoot,balanceMerkleRoot"
   ]
  },
  {
   "attachments": {},
   "cell_type": "markdown",
   "metadata": {},
   "source": [
    "## `gTOKEN` class\n",
    "\n",
    "If the current chain is Goerli or Ethereum, gTOKEN represents `gETH`. If it is Gnosis, it would represent the gGNO token. Geode is not live on Gnosis tho, just an example.\n",
    "\n",
    "gETH and its friends from other chains has unique functionalities like middlewares, avoiders and pricePerShare. [Our docs](https://docs.geode.fi) explains them in depth."
   ]
  },
  {
   "cell_type": "code",
   "execution_count": 7,
   "metadata": {},
   "outputs": [
    {
     "data": {
      "text/plain": [
       "'Geode Staked Ether'"
      ]
     },
     "execution_count": 7,
     "metadata": {},
     "output_type": "execute_result"
    }
   ],
   "source": [
    "gETH = G.Token\n",
    "\n",
    "gETH.contract.functions.name().call()"
   ]
  },
  {
   "attachments": {},
   "cell_type": "markdown",
   "metadata": {},
   "source": [
    "## `Beacon` class\n",
    "\n",
    "This class has some of the api endpoints for https://beaconcha.in/ implemented. Not all, just the ones we think is currently needed. But we are planning to implement all of them in the next release.\n",
    "\n",
    "Visit https://goerli.beaconcha.in/api/v1/docs/index.html#/ for all."
   ]
  },
  {
   "cell_type": "code",
   "execution_count": 8,
   "metadata": {},
   "outputs": [
    {
     "data": {
      "text/plain": [
       "{'beaconchain_entering': 1893,\n",
       " 'beaconchain_exiting': 0,\n",
       " 'validatorscount': 501503}"
      ]
     },
     "execution_count": 8,
     "metadata": {},
     "output_type": "execute_result"
    }
   ],
   "source": [
    "Beacon = G.Beacon\n",
    "\n",
    "eth1=\"0x2C95BC18Fd9382a07776D416EeF6c2FEb3AD2A8C\"\n",
    "index=\"441075\"\n",
    "pubkey=\"0x9326f6c07f8abd082ef82b19279cbba7616b0395fb947d50cd2d5fef303dd613abe31087077a67faa477c0631cc7228d\"\n",
    "deposit_tx=\"0x41898a6106b8306f4f01655aab4566a2c7dd3bbce008a0c5bc088faa8875ad2f\"\n",
    "\n",
    "# Currently accesible methods listed:\n",
    "Beacon.get_validator_eth1(eth1) # created validators data for an eth1 address\n",
    "Beacon.get_validator_withdrawalCredentials(eth1) # takes withdrawal credentials returns the validator list\n",
    "Beacon.get_validator(pubkey)\n",
    "Beacon.get_validator_balancehistory(pubkey)\n",
    "Beacon.get_validator_deposits(pubkey)\n",
    "Beacon.get_validator_withdrawals(pubkey)\n",
    "Beacon.get_eth1deposit(deposit_tx)\n",
    "Beacon.get_validators_queue()"
   ]
  }
 ],
 "metadata": {
  "kernelspec": {
   "display_name": "venv",
   "language": "python",
   "name": "python3"
  },
  "language_info": {
   "codemirror_mode": {
    "name": "ipython",
    "version": 3
   },
   "file_extension": ".py",
   "mimetype": "text/x-python",
   "name": "python",
   "nbconvert_exporter": "python",
   "pygments_lexer": "ipython3",
   "version": "3.10.6"
  },
  "orig_nbformat": 4,
  "vscode": {
   "interpreter": {
    "hash": "b1b6c5072c5a50f6d2400b07d553322444e3342f0da0ae61087b066e28ec204a"
   }
  }
 },
 "nbformat": 4,
 "nbformat_minor": 2
}
